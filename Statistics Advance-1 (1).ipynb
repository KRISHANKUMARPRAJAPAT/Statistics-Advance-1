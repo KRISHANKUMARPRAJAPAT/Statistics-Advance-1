{
 "cells": [
  {
   "cell_type": "markdown",
   "id": "0399294d-696b-4e38-93f5-b49ba7e6d930",
   "metadata": {},
   "source": [
    "# Q1. What is the Probability density function? "
   ]
  },
  {
   "cell_type": "markdown",
   "id": "acdef53f-0806-409d-a837-1b75c2f8c654",
   "metadata": {},
   "source": [
    "# Ans : 1\n",
    "\n",
    "\n",
    "The Probability Density Function (PDF) is a function used in probability theory to describe the likelihood of a continuous random variable taking on specific values within a given range. It is non-negative and integrates to 1 over the entire range of the variable.\n",
    "The PDF only applies to continuous random variables. For discrete random variables, the analogous concept is called the Probability Mass Function (PMF), which assigns probabilities to specific values instead of intervals."
   ]
  },
  {
   "cell_type": "code",
   "execution_count": null,
   "id": "313a769e-c18d-48fb-91e7-430655cd8f1b",
   "metadata": {},
   "outputs": [],
   "source": []
  },
  {
   "cell_type": "markdown",
   "id": "47fc0cc7-61b5-4355-858a-c8404c04b4d6",
   "metadata": {},
   "source": [
    "# Q2. What are the types of Probability distribution?"
   ]
  },
  {
   "cell_type": "markdown",
   "id": "df11036a-de07-4c08-b2cc-0d8faabfebf0",
   "metadata": {},
   "source": [
    "# Ans: 2 \n",
    "\n",
    "\n",
    "There are several types of probability distributions in statistics, and they can be broadly categorized into two main groups: discrete probability distributions and continuous probability distributions.\n",
    "\n",
    ".\n",
    "\n",
    "- **Discrete Probability Distributions:**\n",
    "\n",
    "Bernoulli Distribution: Represents the probability of success (1) or failure (0) in a single trial.\n",
    "\n",
    "Binomial Distribution: Models the number of successes in a fixed number of independent Bernoulli trials.\n",
    "\n",
    "Poisson Distribution: Describes the number of events that occur in a fixed interval of time or space.\n",
    "\n",
    "Geometric Distribution: Represents the number of trials needed to achieve the first success in a sequence of Bernoulli trials.\n",
    "\n",
    "Hypergeometric Distribution: Models the number of successes in a fixed number of draws without replacement from a finite population of two types of items.\n",
    "\n",
    "Discrete Uniform Distribution: Gives equal probability to each possible outcome in a finite range.\n",
    "\n",
    "\n",
    "\n",
    "\n",
    ".\n",
    "\n",
    "\n",
    "\n",
    "-  **Continuous Probability Distributions:**\n",
    "\n",
    "\n",
    "\n",
    "\n",
    "\n",
    "Normal (Gaussian) Distribution: Characterized by a bell-shaped curve and widely used in statistical analyses due to its properties.\n",
    "\n",
    "Uniform Distribution: Has a constant probability over a defined interval, resulting in a rectangular-shaped distribution.\n",
    "\n",
    "Exponential Distribution: Models the time between events in a Poisson process.\n",
    "\n",
    "Gamma Distribution: Generalizes the exponential distribution and is used to model waiting times for multiple events.\n",
    "\n",
    "Beta Distribution: Represents random variables with values between 0 and 1 and is commonly used in Bayesian statistics.\n",
    "\n",
    "Chi-Squared Distribution: Arises in various statistical tests, such as the chi-squared test for independence.\n",
    "\n",
    "Student's t-Distribution: Used in hypothesis testing when the sample size is small or the population standard deviation is unknown.\n",
    "F-Distribution: Arises in the analysis of variance (ANOVA) and regression."
   ]
  },
  {
   "cell_type": "code",
   "execution_count": null,
   "id": "23ecc52a-d3e6-4f03-808e-65e6f1519913",
   "metadata": {},
   "outputs": [],
   "source": []
  },
  {
   "cell_type": "markdown",
   "id": "5f98e0b8-228a-424a-86c3-7d0f686547dd",
   "metadata": {},
   "source": [
    "# Q3. Write a Python function to calculate the probability density function of a normal distribution with given mean and standard deviation at a given point."
   ]
  },
  {
   "cell_type": "code",
   "execution_count": 1,
   "id": "425f3bf2-27e5-4ce9-b8fa-fa8ee393504f",
   "metadata": {},
   "outputs": [
    {
     "name": "stdout",
     "output_type": "stream",
     "text": [
      "The PDF at x = 7.5 is 0.09132\n"
     ]
    }
   ],
   "source": [
    "# Ans : 3\n",
    "\n",
    "import math\n",
    "\n",
    "def normal_pdf(x, mean, std_dev):\n",
    "    \"\"\"\n",
    "    Calculate the Probability Density Function (PDF) of a normal distribution\n",
    "    at a given point.\n",
    "\n",
    "    Parameters:\n",
    "        x (float): The value at which to evaluate the PDF.\n",
    "        mean (float): The mean of the normal distribution.\n",
    "        std_dev (float): The standard deviation of the normal distribution.\n",
    "\n",
    "    Returns:\n",
    "        float: The probability density at the given point.\n",
    "    \"\"\"\n",
    "    coefficient = 1 / (std_dev * math.sqrt(2 * math.pi))\n",
    "    exponent = -(x - mean) ** 2 / (2 * std_dev ** 2)\n",
    "    pdf_value = coefficient * math.exp(exponent)\n",
    "    return pdf_value\n",
    "\n",
    "# Example usage:\n",
    "mean = 5.0\n",
    "std_dev = 2.0\n",
    "point = 7.5\n",
    "pdf_at_point = normal_pdf(point, mean, std_dev)\n",
    "print(f\"The PDF at x = {point} is {pdf_at_point:.5f}\")"
   ]
  },
  {
   "cell_type": "code",
   "execution_count": null,
   "id": "71aae97a-e79b-4787-bb09-0be28f0b21c3",
   "metadata": {},
   "outputs": [],
   "source": []
  },
  {
   "cell_type": "markdown",
   "id": "4fdb01b3-c65f-4ba6-b50c-7d7dc6691e49",
   "metadata": {},
   "source": [
    "# Q4. What are the properties of Binomial distribution? Give two examples of events where binomial distribution can be applied."
   ]
  },
  {
   "cell_type": "markdown",
   "id": "05c2acca-b2e8-4681-81f1-e1da88ba03de",
   "metadata": {},
   "source": [
    "# Ans: 4 \n",
    "\n",
    "\n",
    "Properties of the Binomial Distribution:\n",
    "\n",
    "- Discrete Probability Distribution: The binomial distribution is a discrete probability distribution, meaning it is defined for a discrete set of possible outcomes.\n",
    "\n",
    "- Binary Outcomes: It models situations where there are only two possible outcomes for each trial: success or failure.\n",
    "\n",
    "- Independent Trials: Each trial is assumed to be independent of the others, meaning the outcome of one trial does not affect the outcome of another.\n",
    "\n",
    "- Fixed Number of Trials: The number of trials (n) is fixed in advance and does not change.\n",
    "\n",
    "- Constant Probability: The probability of success (p) remains constant across all trials.\n",
    "\n",
    "- Parameters: The binomial distribution is characterized by two parameters: the number of trials (n) and the probability of success in a single trial (p).\n",
    "\n",
    ".\n",
    "\n",
    "Two Examples of Events where Binomial Distribution can be Applied:\n",
    "\n",
    "\n",
    "\n",
    "**Coin Tossing:** When flipping a fair coin, there are two possible outcomes: heads (success) or tails (failure). Each flip is independent of others, and the probability of getting heads (p) remains constant at 0.5 for a fair coin. We can use the binomial distribution to calculate the probability of getting a specific number of heads in a fixed number of coin flips.\n",
    "\n",
    "**Quality Control:** In manufacturing, products are often inspected for defects. Suppose a quality control team inspects a batch of items and classifies each item as either defective (success) or non-defective (failure). The binomial distribution can be used to determine the probability of finding a certain number of defective items in the batch, given the overall defect rate (probability of success) and the number of items inspected.\n",
    "\n",
    "In both of these examples, the binomial distribution allows us to model and analyze the probabilities associated with the number of successes in a series of independent trials."
   ]
  },
  {
   "cell_type": "code",
   "execution_count": null,
   "id": "6b553693-507d-4480-bed5-357e9e050bfb",
   "metadata": {},
   "outputs": [],
   "source": []
  },
  {
   "cell_type": "markdown",
   "id": "3ac18530-7a45-4e32-acd0-2e165a61ea44",
   "metadata": {},
   "source": [
    "# Q5. Generate a random sample of size 1000 from a binomial distribution with probability of success 0.4 and plot a histogram of the results using matplotlib."
   ]
  },
  {
   "cell_type": "code",
   "execution_count": 2,
   "id": "004bd2c9-841a-488a-8ae3-aa7bc8f48101",
   "metadata": {},
   "outputs": [
    {
     "data": {
      "image/png": "[encoded data removed]",
      "text/plain": [
       "<Figure size 640x480 with 1 Axes>"
      ]
     },
     "metadata": {},
     "output_type": "display_data"
    }
   ],
   "source": [
    "# Ans : 5 \n",
    "\n",
    "import numpy as np\n",
    "import matplotlib.pyplot as plt\n",
    "\n",
    "# Parameters for the binomial distribution\n",
    "probability_of_success = 0.4\n",
    "sample_size = 1000\n",
    "\n",
    "# Generate random sample from the binomial distribution\n",
    "random_sample = np.random.binomial(n=1, p=probability_of_success, size=sample_size)\n",
    "\n",
    "# Plot the histogram\n",
    "plt.hist(random_sample, bins=[0, 1, 2], align='left', rwidth=0.8 ,color= 'g')\n",
    "plt.xticks([0, 1], ['Failure', 'Success'])\n",
    "plt.xlabel('Outcome')\n",
    "plt.ylabel('Frequency')\n",
    "plt.title('Histogram of Binomial Distribution (n=1, p=0.4, Sample Size=1000)')\n",
    "plt.show()"
   ]
  },
  {
   "cell_type": "code",
   "execution_count": null,
   "id": "afe0606a-7282-43d2-bb85-adf13b724c02",
   "metadata": {},
   "outputs": [],
   "source": []
  },
  {
   "cell_type": "markdown",
   "id": "7707a49c-6305-466c-aa2d-ad590407f6d8",
   "metadata": {},
   "source": [
    "# Q6. Write a Python function to calculate the cumulative distribution function of a Poisson distribution with given mean at a given point."
   ]
  },
  {
   "cell_type": "code",
   "execution_count": 3,
   "id": "03255b47-cdbb-45c7-8713-9562b3161fd9",
   "metadata": {},
   "outputs": [
    {
     "name": "stdout",
     "output_type": "stream",
     "text": [
      "The CDF at x = 2 is 0.32085\n"
     ]
    }
   ],
   "source": [
    "#Ans: 6 \n",
    "\n",
    "\n",
    "def poisson_cdf(x, mean):\n",
    "    \"\"\"\n",
    "    Calculate the Cumulative Distribution Function (CDF) of a Poisson distribution\n",
    "    at a given point.\n",
    "\n",
    "    Parameters:\n",
    "        x (int): The value at which to evaluate the CDF.\n",
    "        mean (float): The mean of the Poisson distribution.\n",
    "\n",
    "    Returns:\n",
    "        float: The cumulative probability at the given point.\n",
    "    \"\"\"\n",
    "    cdf_value = 0.0\n",
    "    for i in range(x + 1):\n",
    "        cdf_value += (math.exp(-mean) * mean ** i) / math.factorial(i)\n",
    "    return cdf_value\n",
    "\n",
    "# Example usage:\n",
    "mean = 3.5\n",
    "point = 2\n",
    "cdf_at_point = poisson_cdf(point, mean)\n",
    "print(f\"The CDF at x = {point} is {cdf_at_point:.5f}\")"
   ]
  },
  {
   "cell_type": "code",
   "execution_count": null,
   "id": "82cb1466-a5b9-4859-9b37-1e39d4aacc41",
   "metadata": {},
   "outputs": [],
   "source": []
  },
  {
   "cell_type": "markdown",
   "id": "df86686b-824d-4e11-9cf9-644e5a3da6ff",
   "metadata": {},
   "source": [
    "# Q7. How Binomial distribution different from Poisson distribution?"
   ]
  },
  {
   "cell_type": "markdown",
   "id": "87615173-958c-4d12-9cb7-a5d9923c05ef",
   "metadata": {},
   "source": [
    "# Ans: 7\n",
    "\n",
    "The Binomial and Poisson distributions are both used to model the number of events that happen, but they are different in how they represent those events.The key differences are that the Binomial distribution deals with a fixed number of independent trials with two possible outcomes, while the Poisson distribution deals with a random process with an unknown number of events occurring in a fixed interval or region, where the events happen independently and at a constant rate.\n",
    "\n",
    "**Binomial Distribution:**\n",
    "\n",
    "- Applicable when we have a fixed number of independent trials (repeated experiments).\n",
    "\n",
    "- Each trial has only two possible outcomes: success or failure.\n",
    "\n",
    "- The probability of success remains the same for all trials.\n",
    "\n",
    "- Examples: Coin tosses, counting the number of heads in 10 coin flips, or the number of defective items in a batch.\n",
    "\n",
    ".\n",
    "\n",
    "**Poisson Distribution:**\n",
    "\n",
    "- Applicable when we have a random process where events occur independently over time or space.\n",
    "\n",
    "- Represents the number of events that happen in a fixed interval or region.\n",
    "\n",
    "- There is no fixed number of trials; the number of events can be any non-negative whole number.\n",
    "\n",
    "- The average rate at which events happen (mean) remains constant over time or space.\n",
    "\n",
    "- Examples: Counting the number of cars passing a point in an hour, the number of typos in a book, or the number of calls received at a customer service center in a day.\n",
    "\n",
    "\n",
    "\n",
    "\n",
    "\n"
   ]
  },
  {
   "cell_type": "code",
   "execution_count": null,
   "id": "f9403117-29d1-4e06-b10b-208cb45e68ca",
   "metadata": {},
   "outputs": [],
   "source": []
  },
  {
   "cell_type": "markdown",
   "id": "dff3f364-8e54-4d7d-8124-3d2d95cdb390",
   "metadata": {},
   "source": [
    "# Q8. Generate a random sample of size 1000 from a Poisson distribution with mean 5 and calculate the sample mean and variance."
   ]
  },
  {
   "cell_type": "code",
   "execution_count": 4,
   "id": "bf5148dc-ca3d-4615-bb10-ffdd9510cd42",
   "metadata": {},
   "outputs": [
    {
     "name": "stdout",
     "output_type": "stream",
     "text": [
      "Sample Mean: 5.010\n",
      "Sample Variance: 5.335\n"
     ]
    }
   ],
   "source": [
    "# Ans: 8 \n",
    "\n",
    "import numpy as np\n",
    "\n",
    "# Parameters for the Poisson distribution\n",
    "mean = 5\n",
    "sample_size = 1000\n",
    "\n",
    "# Generate random sample from the Poisson distribution\n",
    "random_sample = np.random.poisson(lam=mean, size=sample_size)\n",
    "\n",
    "# Calculate the sample mean and variance\n",
    "sample_mean = np.mean(random_sample)\n",
    "sample_variance = np.var(random_sample, ddof=1)  # ddof=1 for unbiased variance estimation\n",
    "\n",
    "# Display the results\n",
    "print(f\"Sample Mean: {sample_mean:.3f}\")\n",
    "print(f\"Sample Variance: {sample_variance:.3f}\")\n"
   ]
  },
  {
   "cell_type": "code",
   "execution_count": null,
   "id": "9e1ecff0-ccfa-445b-a7d1-52b71cf57fd7",
   "metadata": {},
   "outputs": [],
   "source": []
  },
  {
   "cell_type": "markdown",
   "id": "2c1c0ed9-793e-4842-90b5-ec442b6fd99e",
   "metadata": {},
   "source": [
    "# Q9. How mean and variance are related in Binomial distribution and Poisson distribution?"
   ]
  },
  {
   "cell_type": "markdown",
   "id": "9bfc1dbf-b2cb-4a3e-aa5c-172609625b93",
   "metadata": {},
   "source": [
    "# Ans: 9 \n",
    "In both the Binomial and Poisson distributions, the mean and variance are related, but the specific relationship is different for each distribution.\n",
    "In the Binomial distribution, the variance depends on both the number of trials and the probability of success, while in the Poisson distribution, the variance is solely determined by the mean (λ). Additionally, in the Poisson distribution, the mean and variance are always equal, while in the Binomial distribution, they are related through the probability of success (p) as well.\n",
    "\n",
    "\n",
    "**Binomial Distribution:**\n",
    "\n",
    "- Mean (μ) = n * p\n",
    "\n",
    "- Variance (σ²) = n * p * (1 - p)\n",
    "\n",
    "In the Binomial distribution, the mean is equal to the number of trials (n) multiplied by the probability of success in a single trial (p). The variance is also dependent on the number of trials (n) and the probability of success (p). As the probability of success (p) increases, the variance generally decreases, and vice versa.\n",
    "\n",
    ".\n",
    "\n",
    "**Poisson Distribution:**\n",
    "\n",
    "- Mean (μ) = λ (lambda)\n",
    "\n",
    "- Variance (σ²) = λ (lambda)\n",
    "\n",
    "In the Poisson distribution, both the mean and variance are equal to the parameter λ (lambda), which represents the average rate of events occurring in a fixed interval or region. This means that in a Poisson distribution, the mean and variance are always the same, regardless of the value of λ."
   ]
  },
  {
   "cell_type": "code",
   "execution_count": null,
   "id": "e012a23b-8376-4796-b35a-aeddf525c393",
   "metadata": {},
   "outputs": [],
   "source": []
  },
  {
   "cell_type": "markdown",
   "id": "388b6645-b488-49df-8e9e-76a8f712b505",
   "metadata": {},
   "source": [
    "# Q10. In normal distribution with respect to mean position, where does the least frequent data appear?"
   ]
  },
  {
   "cell_type": "markdown",
   "id": "5b132a54-421a-4a5b-824a-5e7d84cfb548",
   "metadata": {},
   "source": [
    "# Ans: 10 \n",
    "\n",
    "\n",
    "In a normal distribution, also known as the Gaussian distribution or bell curve, the least frequent data appears at the tails of the distribution, farthest away from the mean position.\n",
    "\n",
    "The normal distribution is symmetric around its mean, and the majority of the data points are concentrated near the mean. As you move away from the mean towards the tails of the distribution, the data becomes increasingly less frequent. The tails of the normal distribution represent extreme values, and they occur much less frequently compared to the values near the mean.\n",
    "\n",
    "The standard normal distribution, with a mean of 0 and a standard deviation of 1, is often used as a reference. In this standard normal distribution, about 68% of the data falls within one standard deviation from the mean, about 95% within two standard deviations, and about 99.7% within three standard deviations."
   ]
  },
  {
   "cell_type": "code",
   "execution_count": null,
   "id": "a3777850-4f6d-41bb-a409-94d420dfd6f7",
   "metadata": {},
   "outputs": [],
   "source": []
  },
  {
   "cell_type": "code",
   "execution_count": null,
   "id": "0ca0534d-8b88-45fe-a4b8-28acfe16d6d4",
   "metadata": {},
   "outputs": [],
   "source": []
  },
  {
   "cell_type": "code",
   "execution_count": null,
   "id": "f0816408-385e-4528-a536-f30e1b9fbe86",
   "metadata": {},
   "outputs": [],
   "source": []
  },
  {
   "cell_type": "code",
   "execution_count": null,
   "id": "153ef56b-0c44-48ba-a65d-014f29a4c084",
   "metadata": {},
   "outputs": [],
   "source": []
  },
  {
   "cell_type": "code",
   "execution_count": null,
   "id": "30f69470-4073-48b0-af7f-15b1970155a5",
   "metadata": {},
   "outputs": [],
   "source": []
  },
  {
   "cell_type": "code",
   "execution_count": null,
   "id": "56e649e9-11bf-41b4-bb03-2ea0eb18e6cf",
   "metadata": {},
   "outputs": [],
   "source": []
  }
 ],
 "metadata": {
  "kernelspec": {
   "display_name": "Python 3 (ipykernel)",
   "language": "python",
   "name": "python3"
  },
  "language_info": {
   "codemirror_mode": {
    "name": "ipython",
    "version": 3
   },
   "file_extension": ".py",
   "mimetype": "text/x-python",
   "name": "python",
   "nbconvert_exporter": "python",
   "pygments_lexer": "ipython3",
   "version": "3.10.8"
  }
 },
 "nbformat": 4,
 "nbformat_minor": 5
}
